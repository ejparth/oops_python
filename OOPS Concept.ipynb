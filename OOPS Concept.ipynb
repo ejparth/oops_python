{
 "cells": [
  {
   "cell_type": "markdown",
   "id": "a40672c7",
   "metadata": {},
   "source": [
    "# Creating a simple class"
   ]
  },
  {
   "cell_type": "code",
   "execution_count": 35,
   "id": "aa130b9c",
   "metadata": {},
   "outputs": [
    {
     "data": {
      "text/plain": [
       "'Mercedes'"
      ]
     },
     "execution_count": 35,
     "metadata": {},
     "output_type": "execute_result"
    }
   ],
   "source": [
    "class CAR:\n",
    "    def __init__(self):\n",
    "        pass\n",
    "    \n",
    "    def Carname(self):\n",
    "        return \"Mercedes\"\n",
    "\n",
    "car1 = CAR()\n",
    "car1.Carname()"
   ]
  },
  {
   "cell_type": "markdown",
   "id": "afdb92c1",
   "metadata": {},
   "source": [
    "Creating class with instance variables"
   ]
  },
  {
   "cell_type": "code",
   "execution_count": 38,
   "id": "ac0e8448",
   "metadata": {},
   "outputs": [
    {
     "name": "stdout",
     "output_type": "stream",
     "text": [
      "The name of car is Mercedes and model is E-Class\n"
     ]
    }
   ],
   "source": [
    "class Car:\n",
    "    def __init__(self, name, model):\n",
    "        self.name = name\n",
    "        self.model = model\n",
    "    \n",
    "    def CarCategory(self):\n",
    "        print(\"The name of car is {0} and model is {1}\".format(self.name, self.model))\n",
    "        \n",
    "Carmodel1 = Car(\"Mercedes\", \"E-Class\")\n",
    "Carmodel1.CarCategory()"
   ]
  },
  {
   "cell_type": "code",
   "execution_count": 39,
   "id": "b760463b",
   "metadata": {},
   "outputs": [
    {
     "name": "stdout",
     "output_type": "stream",
     "text": [
      "The name of car is Lamborgini and model is Z-Class\n"
     ]
    }
   ],
   "source": [
    "Carmodel2 = Car(\"Lamborgini\", \"Z-Class\")\n",
    "Carmodel2.CarCategory()"
   ]
  },
  {
   "cell_type": "code",
   "execution_count": null,
   "id": "f0232f6a",
   "metadata": {},
   "outputs": [],
   "source": []
  },
  {
   "cell_type": "markdown",
   "id": "4f185f65",
   "metadata": {},
   "source": [
    "# 4 concepts of OOPS\n",
    "1) Abstraction\n",
    "2) Inheritance\n",
    "3) Encapsulation\n",
    "4) Polymorphesim"
   ]
  },
  {
   "cell_type": "markdown",
   "id": "8877aefe",
   "metadata": {},
   "source": [
    "## Inheritance "
   ]
  },
  {
   "cell_type": "code",
   "execution_count": 52,
   "id": "62769a33",
   "metadata": {},
   "outputs": [
    {
     "name": "stdout",
     "output_type": "stream",
     "text": [
      " Dog has four legs and one tail\n"
     ]
    }
   ],
   "source": [
    "class Animal:\n",
    "    def __init__(self, animal, legs, tail):\n",
    "        self.legs = legs\n",
    "        self.tail = tail\n",
    "        self.animal = animal\n",
    "    def __str__(self):\n",
    "        return f\" {self.animal} has {self.legs} legs and {self.tail} tail\"\n",
    "\n",
    "class Dog(Animal):\n",
    "    pass\n",
    "\n",
    "class Cat(Animal):\n",
    "    pass\n",
    "\n",
    "animal1 = Dog(\"Dog\",\"four\",\"one\")\n",
    "print(animal1)"
   ]
  },
  {
   "cell_type": "code",
   "execution_count": 54,
   "id": "0ea26779",
   "metadata": {},
   "outputs": [
    {
     "name": "stdout",
     "output_type": "stream",
     "text": [
      " Cat has four legs and one tail\n",
      " Dog has four legs and one tail\n",
      " Horse has four legs and one tail\n",
      " Dino has four legs and one tail\n",
      " Tiger has four legs and one tail\n",
      " Lion has four legs and one tail\n",
      " Cheetah has four legs and one tail\n"
     ]
    }
   ],
   "source": [
    "animals = [\"Cat\", \"Dog\", \"Horse\", \"Dino\", \"Tiger\", \"Lion\", \"Cheetah\"]\n",
    "\n",
    "for i in range(len(animals)):\n",
    "    ani = Dog(animals[i],\"four\",\"one\")\n",
    "    print(ani)\n"
   ]
  },
  {
   "cell_type": "markdown",
   "id": "bfa9fc09",
   "metadata": {},
   "source": [
    "Creating a simple class"
   ]
  },
  {
   "cell_type": "code",
   "execution_count": 68,
   "id": "ae1631c7",
   "metadata": {},
   "outputs": [],
   "source": [
    "class building:\n",
    "    def __init__(self, name):\n",
    "        self.name = name\n",
    "        \n",
    "    def display(self):\n",
    "        print(\"name of building is {0}\".format(self.name))\n",
    "\n",
    "build = building(\"Burj-Al-Arab\") "
   ]
  },
  {
   "cell_type": "code",
   "execution_count": 69,
   "id": "dc9e72cf",
   "metadata": {},
   "outputs": [
    {
     "name": "stdout",
     "output_type": "stream",
     "text": [
      "name of building is Burj-Al-Arab\n"
     ]
    }
   ],
   "source": [
    "build.display()"
   ]
  },
  {
   "cell_type": "markdown",
   "id": "bbc1a262",
   "metadata": {},
   "source": [
    "# Pratice Encapsulation"
   ]
  },
  {
   "cell_type": "markdown",
   "id": "34cbff3c",
   "metadata": {},
   "source": [
    "##### Encapsulation deals with concept of private variable and private functions"
   ]
  },
  {
   "cell_type": "code",
   "execution_count": 92,
   "id": "a079cbb7",
   "metadata": {},
   "outputs": [],
   "source": [
    "class building:\n",
    "    def __init__(self, __name):\n",
    "        self.__name = __name\n",
    "        self.__height = 103\n",
    "        \n",
    "    def display(self):\n",
    "        print(\"name of building is {0} and height is {1}\".format(self.__name, self.__height))\n",
    "\n",
    "build = building(\"Burj-Al-Arab\")"
   ]
  },
  {
   "cell_type": "code",
   "execution_count": 93,
   "id": "a00d7665",
   "metadata": {},
   "outputs": [
    {
     "name": "stdout",
     "output_type": "stream",
     "text": [
      "name of building is Burj-Al-Arab and height is 103\n"
     ]
    }
   ],
   "source": [
    "build.display()"
   ]
  },
  {
   "cell_type": "markdown",
   "id": "bf07d447",
   "metadata": {},
   "source": [
    "### Encapsulation logic"
   ]
  },
  {
   "cell_type": "code",
   "execution_count": 88,
   "id": "5c1aa9ca",
   "metadata": {},
   "outputs": [],
   "source": [
    "build.__height = 111"
   ]
  },
  {
   "cell_type": "code",
   "execution_count": 89,
   "id": "02b2a71f",
   "metadata": {},
   "outputs": [
    {
     "name": "stdout",
     "output_type": "stream",
     "text": [
      "name of building is Burj-Al-Arab and height is 103\n"
     ]
    }
   ],
   "source": [
    "build.display()\n",
    "\n",
    "## as you can see that the private variable cannot be changed"
   ]
  },
  {
   "cell_type": "code",
   "execution_count": 98,
   "id": "ab119bcd",
   "metadata": {},
   "outputs": [],
   "source": [
    "build._building__height = 111\n",
    "\n",
    "## now it can be changed it was a private variable and now accessed out of the class\n",
    "## But the correct way is to introduce a method and change variable without changing original variable\n"
   ]
  },
  {
   "cell_type": "markdown",
   "id": "5aa90b95",
   "metadata": {},
   "source": [
    "def changeVariabel(self, value):\n",
    "    self.__height = value"
   ]
  },
  {
   "cell_type": "code",
   "execution_count": 99,
   "id": "22333933",
   "metadata": {},
   "outputs": [
    {
     "name": "stdout",
     "output_type": "stream",
     "text": [
      "name of building is Burj-Al-Arab and height is 111\n"
     ]
    }
   ],
   "source": [
    "build.display()"
   ]
  },
  {
   "cell_type": "code",
   "execution_count": null,
   "id": "3f9a7240",
   "metadata": {},
   "outputs": [],
   "source": []
  },
  {
   "cell_type": "markdown",
   "id": "32ab4715",
   "metadata": {},
   "source": [
    "# Polymorphism"
   ]
  },
  {
   "cell_type": "markdown",
   "id": "d3152e5f",
   "metadata": {},
   "source": [
    "Different role for same form in different situations"
   ]
  },
  {
   "cell_type": "code",
   "execution_count": 102,
   "id": "bab101a7",
   "metadata": {},
   "outputs": [
    {
     "name": "stdout",
     "output_type": "stream",
     "text": [
      "9\n",
      "My name is Aakash\n",
      "[3, 4, 5, 6]\n"
     ]
    }
   ],
   "source": [
    "def add(a,b):\n",
    "    print(a+b)\n",
    "\n",
    "add(4, 5)\n",
    "add(\"My name \", \"is Aakash\")\n",
    "add([3,4], [5,6])\n",
    "\n",
    "## so here a + b is working differently for numbers, for string, and for list"
   ]
  },
  {
   "cell_type": "code",
   "execution_count": 103,
   "id": "1dc3aa14",
   "metadata": {},
   "outputs": [
    {
     "name": "stdout",
     "output_type": "stream",
     "text": [
      "Hi this is first\n",
      "Hi this is second\n"
     ]
    }
   ],
   "source": [
    "# similarly in Object oriented programming we can allot same function to different object to obtain different results like above\n",
    "\n",
    "class ABC:\n",
    "    def msg(self):\n",
    "        print(\"Hi this is first\")\n",
    "        \n",
    "class XYZ:\n",
    "    def msg(self):\n",
    "        print(\"Hi this is second\")\n",
    "        \n",
    "def test(notes):\n",
    "    notes.msg()\n",
    "        \n",
    "i = ABC()\n",
    "j = XYZ()\n",
    "\n",
    "test(i)\n",
    "test(j)"
   ]
  },
  {
   "cell_type": "code",
   "execution_count": null,
   "id": "fcca716d",
   "metadata": {},
   "outputs": [],
   "source": []
  }
 ],
 "metadata": {
  "kernelspec": {
   "display_name": "Python 3 (ipykernel)",
   "language": "python",
   "name": "python3"
  },
  "language_info": {
   "codemirror_mode": {
    "name": "ipython",
    "version": 3
   },
   "file_extension": ".py",
   "mimetype": "text/x-python",
   "name": "python",
   "nbconvert_exporter": "python",
   "pygments_lexer": "ipython3",
   "version": "3.9.12"
  }
 },
 "nbformat": 4,
 "nbformat_minor": 5
}
